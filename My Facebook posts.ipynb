{
 "cells": [
  {
   "cell_type": "code",
   "execution_count": 8,
   "id": "e252e58a-48d3-4939-8094-280ca2d54429",
   "metadata": {},
   "outputs": [],
   "source": [
    "import pandas as pd"
   ]
  },
  {
   "cell_type": "code",
   "execution_count": 9,
   "id": "a255898f-e803-4a06-a69e-cf9430860526",
   "metadata": {},
   "outputs": [
    {
     "data": {
      "text/html": [
       "<div>\n",
       "<style scoped>\n",
       "    .dataframe tbody tr th:only-of-type {\n",
       "        vertical-align: middle;\n",
       "    }\n",
       "\n",
       "    .dataframe tbody tr th {\n",
       "        vertical-align: top;\n",
       "    }\n",
       "\n",
       "    .dataframe thead th {\n",
       "        text-align: right;\n",
       "    }\n",
       "</style>\n",
       "<table border=\"1\" class=\"dataframe\">\n",
       "  <thead>\n",
       "    <tr style=\"text-align: right;\">\n",
       "      <th></th>\n",
       "      <th>timestamp</th>\n",
       "      <th>attachments</th>\n",
       "      <th>data</th>\n",
       "      <th>title</th>\n",
       "      <th>tags</th>\n",
       "    </tr>\n",
       "  </thead>\n",
       "  <tbody>\n",
       "    <tr>\n",
       "      <th>0</th>\n",
       "      <td>2011-12-14 08:59:06</td>\n",
       "      <td>[{'data': [{'external_context': {'url': 'http:...</td>\n",
       "      <td>[{'post': 'ha'}, {'update_timestamp': 13238531...</td>\n",
       "      <td>Eberenna Joel Chinagorom shared a link.</td>\n",
       "      <td>NaN</td>\n",
       "    </tr>\n",
       "    <tr>\n",
       "      <th>1</th>\n",
       "      <td>2012-05-04 07:08:48</td>\n",
       "      <td>[{'data': [{'external_context': {'url': 'http:...</td>\n",
       "      <td>[{'post': 'wow'}, {'update_timestamp': 1336115...</td>\n",
       "      <td>Eberenna Joel Chinagorom shared a link.</td>\n",
       "      <td>NaN</td>\n",
       "    </tr>\n",
       "    <tr>\n",
       "      <th>2</th>\n",
       "      <td>2012-10-07 14:59:34</td>\n",
       "      <td>[{'data': [{'external_context': {'url': 'http:...</td>\n",
       "      <td>[{'post': 'Cepha has just joined ImageChef'}, ...</td>\n",
       "      <td>Eberenna Joel Chinagorom shared a link.</td>\n",
       "      <td>NaN</td>\n",
       "    </tr>\n",
       "  </tbody>\n",
       "</table>\n",
       "</div>"
      ],
      "text/plain": [
       "            timestamp                                        attachments  \\\n",
       "0 2011-12-14 08:59:06  [{'data': [{'external_context': {'url': 'http:...   \n",
       "1 2012-05-04 07:08:48  [{'data': [{'external_context': {'url': 'http:...   \n",
       "2 2012-10-07 14:59:34  [{'data': [{'external_context': {'url': 'http:...   \n",
       "\n",
       "                                                data  \\\n",
       "0  [{'post': 'ha'}, {'update_timestamp': 13238531...   \n",
       "1  [{'post': 'wow'}, {'update_timestamp': 1336115...   \n",
       "2  [{'post': 'Cepha has just joined ImageChef'}, ...   \n",
       "\n",
       "                                     title tags  \n",
       "0  Eberenna Joel Chinagorom shared a link.  NaN  \n",
       "1  Eberenna Joel Chinagorom shared a link.  NaN  \n",
       "2  Eberenna Joel Chinagorom shared a link.  NaN  "
      ]
     },
     "execution_count": 9,
     "metadata": {},
     "output_type": "execute_result"
    }
   ],
   "source": [
    "df = pd.read_json('yourss.json')\n",
    "\n",
    "df.head(3)"
   ]
  },
  {
   "cell_type": "code",
   "execution_count": null,
   "id": "d7d85317-9d9a-4fa2-91af-a9d79dfbca6a",
   "metadata": {},
   "outputs": [],
   "source": [
    "#    This looks a little confusing, however, our main task is to see the frequency with which I post\n",
    "#    So let us do a little cleaning"
   ]
  },
  {
   "cell_type": "code",
   "execution_count": 10,
   "id": "04dccc99-2e9c-4b4b-a27f-7eba018cd9ab",
   "metadata": {},
   "outputs": [
    {
     "data": {
      "text/html": [
       "<div>\n",
       "<style scoped>\n",
       "    .dataframe tbody tr th:only-of-type {\n",
       "        vertical-align: middle;\n",
       "    }\n",
       "\n",
       "    .dataframe tbody tr th {\n",
       "        vertical-align: top;\n",
       "    }\n",
       "\n",
       "    .dataframe thead th {\n",
       "        text-align: right;\n",
       "    }\n",
       "</style>\n",
       "<table border=\"1\" class=\"dataframe\">\n",
       "  <thead>\n",
       "    <tr style=\"text-align: right;\">\n",
       "      <th></th>\n",
       "      <th>date</th>\n",
       "      <th>data</th>\n",
       "    </tr>\n",
       "  </thead>\n",
       "  <tbody>\n",
       "    <tr>\n",
       "      <th>0</th>\n",
       "      <td>2011-12-14 08:59:06</td>\n",
       "      <td>[{'post': 'ha'}, {'update_timestamp': 13238531...</td>\n",
       "    </tr>\n",
       "    <tr>\n",
       "      <th>1</th>\n",
       "      <td>2012-05-04 07:08:48</td>\n",
       "      <td>[{'post': 'wow'}, {'update_timestamp': 1336115...</td>\n",
       "    </tr>\n",
       "    <tr>\n",
       "      <th>2</th>\n",
       "      <td>2012-10-07 14:59:34</td>\n",
       "      <td>[{'post': 'Cepha has just joined ImageChef'}, ...</td>\n",
       "    </tr>\n",
       "  </tbody>\n",
       "</table>\n",
       "</div>"
      ],
      "text/plain": [
       "                 date                                               data\n",
       "0 2011-12-14 08:59:06  [{'post': 'ha'}, {'update_timestamp': 13238531...\n",
       "1 2012-05-04 07:08:48  [{'post': 'wow'}, {'update_timestamp': 1336115...\n",
       "2 2012-10-07 14:59:34  [{'post': 'Cepha has just joined ImageChef'}, ..."
      ]
     },
     "execution_count": 10,
     "metadata": {},
     "output_type": "execute_result"
    }
   ],
   "source": [
    "#     First let us rename the timestamp column to date, so we can understand\n",
    "df.rename(columns={'timestamp': 'date'}, inplace=True)\n",
    "\n",
    "#     And then we can also drop some unnecessary columns, we just want to be left with date and data\n",
    "df = df.drop(['attachments', 'title', 'tags'], axis=1)\n",
    "\n",
    "#    However, before we proceed, shall we make sure it's datetime format\n",
    "pd.to_datetime(df['date'])\n",
    "\n",
    "df.head(3)"
   ]
  },
  {
   "cell_type": "code",
   "execution_count": 11,
   "id": "7d1df7c3-280e-4e9a-be87-a8a658aed25e",
   "metadata": {},
   "outputs": [
    {
     "data": {
      "text/plain": [
       "(2601, 2)"
      ]
     },
     "execution_count": 11,
     "metadata": {},
     "output_type": "execute_result"
    }
   ],
   "source": [
    "#  Let us see the shape of our dataset\n",
    "#  So we can know the size  and equally check for NAN values\n",
    "df.shape"
   ]
  },
  {
   "cell_type": "code",
   "execution_count": 12,
   "id": "7251a6c7-e537-4305-a1f0-96c8efd56377",
   "metadata": {},
   "outputs": [
    {
     "data": {
      "text/plain": [
       "date    0\n",
       "data    0\n",
       "dtype: int64"
      ]
     },
     "execution_count": 12,
     "metadata": {},
     "output_type": "execute_result"
    }
   ],
   "source": [
    "#    Seems like i have posted a lot, from what we have here, my facebook posts begins in 2011, I actually thought it was 2012\n",
    "\n",
    "#    let me check for null values (Oh we do not have any)\n",
    "df.isna().sum()"
   ]
  },
  {
   "cell_type": "code",
   "execution_count": 16,
   "id": "c05a8b90-14fd-4ce7-a498-82334fbd52a0",
   "metadata": {},
   "outputs": [
    {
     "data": {
      "text/html": [
       "<div>\n",
       "<style scoped>\n",
       "    .dataframe tbody tr th:only-of-type {\n",
       "        vertical-align: middle;\n",
       "    }\n",
       "\n",
       "    .dataframe tbody tr th {\n",
       "        vertical-align: top;\n",
       "    }\n",
       "\n",
       "    .dataframe thead th {\n",
       "        text-align: right;\n",
       "    }\n",
       "</style>\n",
       "<table border=\"1\" class=\"dataframe\">\n",
       "  <thead>\n",
       "    <tr style=\"text-align: right;\">\n",
       "      <th></th>\n",
       "      <th>data</th>\n",
       "    </tr>\n",
       "    <tr>\n",
       "      <th>date</th>\n",
       "      <th></th>\n",
       "    </tr>\n",
       "  </thead>\n",
       "  <tbody>\n",
       "    <tr>\n",
       "      <th>2011-12-14 08:59:06</th>\n",
       "      <td>[{'post': 'ha'}, {'update_timestamp': 13238531...</td>\n",
       "    </tr>\n",
       "    <tr>\n",
       "      <th>2012-05-04 07:08:48</th>\n",
       "      <td>[{'post': 'wow'}, {'update_timestamp': 1336115...</td>\n",
       "    </tr>\n",
       "    <tr>\n",
       "      <th>2012-10-07 14:59:34</th>\n",
       "      <td>[{'post': 'Cepha has just joined ImageChef'}, ...</td>\n",
       "    </tr>\n",
       "    <tr>\n",
       "      <th>2012-10-22 10:15:56</th>\n",
       "      <td>[{'post': 'I am fabulous'}, {'update_timestamp...</td>\n",
       "    </tr>\n",
       "    <tr>\n",
       "      <th>2012-10-25 10:53:59</th>\n",
       "      <td>[{'post': 'Who's smarter'}, {'update_timestamp...</td>\n",
       "    </tr>\n",
       "    <tr>\n",
       "      <th>...</th>\n",
       "      <td>...</td>\n",
       "    </tr>\n",
       "    <tr>\n",
       "      <th>2013-12-16 14:38:13</th>\n",
       "      <td>[]</td>\n",
       "    </tr>\n",
       "    <tr>\n",
       "      <th>2013-12-16 14:38:06</th>\n",
       "      <td>[]</td>\n",
       "    </tr>\n",
       "    <tr>\n",
       "      <th>2013-12-16 14:38:00</th>\n",
       "      <td>[]</td>\n",
       "    </tr>\n",
       "    <tr>\n",
       "      <th>2013-12-16 14:37:58</th>\n",
       "      <td>[]</td>\n",
       "    </tr>\n",
       "    <tr>\n",
       "      <th>2021-05-26 19:22:11</th>\n",
       "      <td>[{'post': 'He who cannot calmly leave his affa...</td>\n",
       "    </tr>\n",
       "  </tbody>\n",
       "</table>\n",
       "<p>2601 rows × 1 columns</p>\n",
       "</div>"
      ],
      "text/plain": [
       "                                                                  data\n",
       "date                                                                  \n",
       "2011-12-14 08:59:06  [{'post': 'ha'}, {'update_timestamp': 13238531...\n",
       "2012-05-04 07:08:48  [{'post': 'wow'}, {'update_timestamp': 1336115...\n",
       "2012-10-07 14:59:34  [{'post': 'Cepha has just joined ImageChef'}, ...\n",
       "2012-10-22 10:15:56  [{'post': 'I am fabulous'}, {'update_timestamp...\n",
       "2012-10-25 10:53:59  [{'post': 'Who's smarter'}, {'update_timestamp...\n",
       "...                                                                ...\n",
       "2013-12-16 14:38:13                                                 []\n",
       "2013-12-16 14:38:06                                                 []\n",
       "2013-12-16 14:38:00                                                 []\n",
       "2013-12-16 14:37:58                                                 []\n",
       "2021-05-26 19:22:11  [{'post': 'He who cannot calmly leave his affa...\n",
       "\n",
       "[2601 rows x 1 columns]"
      ]
     },
     "execution_count": 16,
     "metadata": {},
     "output_type": "execute_result"
    }
   ],
   "source": [
    "#    Given that we're spanning years of history here, looking at it month-to-month makes the most sense. \n",
    "#    What this means is that I need to group our 'date' column by months, and count how many rows (i.e., posts) are associated with each month.\n",
    "\n",
    "df.set_index('date', inplace=True)\n",
    "df"
   ]
  },
  {
   "cell_type": "code",
   "execution_count": 22,
   "id": "ca26cfb5-c045-40d8-bc3a-3e5836e3b9cc",
   "metadata": {},
   "outputs": [
    {
     "data": {
      "text/plain": [
       "date\n",
       "2011-12-01     10\n",
       "2012-01-01      2\n",
       "2012-02-01      4\n",
       "2012-03-01     10\n",
       "2012-04-01      9\n",
       "2012-05-01     29\n",
       "2012-06-01      9\n",
       "2012-07-01     14\n",
       "2012-08-01      3\n",
       "2012-09-01      9\n",
       "2012-10-01     17\n",
       "2012-11-01     12\n",
       "2012-12-01      9\n",
       "2013-01-01      7\n",
       "2013-02-01      4\n",
       "2013-03-01      0\n",
       "2013-04-01      1\n",
       "2013-05-01      1\n",
       "2013-06-01      1\n",
       "2013-07-01      8\n",
       "2013-08-01     13\n",
       "2013-09-01     18\n",
       "2013-10-01      7\n",
       "2013-11-01      0\n",
       "2013-12-01     64\n",
       "2014-01-01      0\n",
       "2014-02-01      0\n",
       "2014-03-01      1\n",
       "2014-04-01     41\n",
       "2014-05-01     97\n",
       "2014-06-01     18\n",
       "2014-07-01     23\n",
       "2014-08-01     74\n",
       "2014-09-01      5\n",
       "2014-10-01     20\n",
       "2014-11-01      1\n",
       "2014-12-01    151\n",
       "2015-01-01     14\n",
       "2015-02-01      3\n",
       "2015-03-01      0\n",
       "2015-04-01     13\n",
       "2015-05-01      0\n",
       "2015-06-01     11\n",
       "2015-07-01      0\n",
       "2015-08-01      0\n",
       "2015-09-01      0\n",
       "2015-10-01     22\n",
       "2015-11-01      6\n",
       "2015-12-01      0\n",
       "2016-01-01      0\n",
       "Freq: MS, dtype: int64"
      ]
     },
     "execution_count": 22,
     "metadata": {},
     "output_type": "execute_result"
    }
   ],
   "source": [
    "# Then we have to Resample the data by month, counting how many posts occur in each month.\n",
    "# Note that months with no posts have been correctly counted as 0 rather than simply skipped. \n",
    "# That's one of the reasons why using resample(), which is designed to work with time series, \n",
    "# is better for this kind of task than using something like groupby(), \n",
    "# where it's easy to skip months with no data if we're not careful.\n",
    "\n",
    "\n",
    "post_counts = df.resample('MS').size()\n",
    "post_counts.head(50)\n"
   ]
  },
  {
   "cell_type": "code",
   "execution_count": 35,
   "id": "51fe25dc-5772-42f1-81e9-3b2be9aa50e1",
   "metadata": {},
   "outputs": [
    {
     "data": {
      "text/plain": [
       "151"
      ]
     },
     "execution_count": 35,
     "metadata": {},
     "output_type": "execute_result"
    }
   ],
   "source": [
    "# The highest number of posts I made per month\n",
    "\n",
    "post_counts.max()"
   ]
  },
  {
   "cell_type": "code",
   "execution_count": 45,
   "id": "76d78c67-cd7b-40d3-9906-5c01e6912081",
   "metadata": {},
   "outputs": [
    {
     "data": {
      "text/plain": [
       "(149,)"
      ]
     },
     "execution_count": 45,
     "metadata": {},
     "output_type": "execute_result"
    }
   ],
   "source": [
    "post_counts.shape"
   ]
  },
  {
   "cell_type": "code",
   "execution_count": 57,
   "id": "63ab9022-08aa-4a1a-a9a7-e555d32b7be2",
   "metadata": {},
   "outputs": [
    {
     "data": {
      "text/html": [
       "<div>\n",
       "<style scoped>\n",
       "    .dataframe tbody tr th:only-of-type {\n",
       "        vertical-align: middle;\n",
       "    }\n",
       "\n",
       "    .dataframe tbody tr th {\n",
       "        vertical-align: top;\n",
       "    }\n",
       "\n",
       "    .dataframe thead th {\n",
       "        text-align: right;\n",
       "    }\n",
       "</style>\n",
       "<table border=\"1\" class=\"dataframe\">\n",
       "  <thead>\n",
       "    <tr style=\"text-align: right;\">\n",
       "      <th></th>\n",
       "      <th>number of post</th>\n",
       "    </tr>\n",
       "    <tr>\n",
       "      <th>date</th>\n",
       "      <th></th>\n",
       "    </tr>\n",
       "  </thead>\n",
       "  <tbody>\n",
       "    <tr>\n",
       "      <th>2014-12-01</th>\n",
       "      <td>151</td>\n",
       "    </tr>\n",
       "    <tr>\n",
       "      <th>2014-05-01</th>\n",
       "      <td>97</td>\n",
       "    </tr>\n",
       "    <tr>\n",
       "      <th>2016-09-01</th>\n",
       "      <td>95</td>\n",
       "    </tr>\n",
       "    <tr>\n",
       "      <th>2016-07-01</th>\n",
       "      <td>79</td>\n",
       "    </tr>\n",
       "    <tr>\n",
       "      <th>2014-08-01</th>\n",
       "      <td>74</td>\n",
       "    </tr>\n",
       "    <tr>\n",
       "      <th>...</th>\n",
       "      <td>...</td>\n",
       "    </tr>\n",
       "    <tr>\n",
       "      <th>2016-01-01</th>\n",
       "      <td>0</td>\n",
       "    </tr>\n",
       "    <tr>\n",
       "      <th>2017-02-01</th>\n",
       "      <td>0</td>\n",
       "    </tr>\n",
       "    <tr>\n",
       "      <th>2013-03-01</th>\n",
       "      <td>0</td>\n",
       "    </tr>\n",
       "    <tr>\n",
       "      <th>2014-02-01</th>\n",
       "      <td>0</td>\n",
       "    </tr>\n",
       "    <tr>\n",
       "      <th>2019-04-01</th>\n",
       "      <td>0</td>\n",
       "    </tr>\n",
       "  </tbody>\n",
       "</table>\n",
       "<p>149 rows × 1 columns</p>\n",
       "</div>"
      ],
      "text/plain": [
       "            number of post\n",
       "date                      \n",
       "2014-12-01             151\n",
       "2014-05-01              97\n",
       "2016-09-01              95\n",
       "2016-07-01              79\n",
       "2014-08-01              74\n",
       "...                    ...\n",
       "2016-01-01               0\n",
       "2017-02-01               0\n",
       "2013-03-01               0\n",
       "2014-02-01               0\n",
       "2019-04-01               0\n",
       "\n",
       "[149 rows x 1 columns]"
      ]
     },
     "execution_count": 57,
     "metadata": {},
     "output_type": "execute_result"
    }
   ],
   "source": [
    "new_df = post_counts.to_frame(name=\"number of post\")\n",
    "new_df.sort_values('number of post', ascending=False)"
   ]
  },
  {
   "cell_type": "code",
   "execution_count": 105,
   "id": "aee0a0f3-74af-410f-a82c-16b3ab8056c4",
   "metadata": {},
   "outputs": [
    {
     "data": {
      "text/plain": [
       "149"
      ]
     },
     "execution_count": 105,
     "metadata": {},
     "output_type": "execute_result"
    }
   ],
   "source": [
    "post_counts.size"
   ]
  },
  {
   "cell_type": "code",
   "execution_count": 76,
   "id": "b2477c0a-e160-4985-be77-3443e7ea7a9e",
   "metadata": {},
   "outputs": [
    {
     "data": {
      "text/plain": [
       "number of post    17.456376\n",
       "dtype: float64"
      ]
     },
     "execution_count": 76,
     "metadata": {},
     "output_type": "execute_result"
    }
   ],
   "source": [
    "new_df.mean()"
   ]
  },
  {
   "cell_type": "code",
   "execution_count": 83,
   "id": "fc9ed5a9-1a71-44cf-8019-ae86eab0fd45",
   "metadata": {},
   "outputs": [],
   "source": [
    "import numpy as np\n",
    "\n",
    "conditions = [\n",
    "(new_df['number of post']>=30),\n",
    "(new_df['number of post']<30)\n",
    "]\n",
    "\n",
    "choices = ['frequent', 'non frequent']\n",
    "\n",
    "new_df['frequency']=np.select(conditions, choices, default=None)\n"
   ]
  },
  {
   "cell_type": "code",
   "execution_count": 86,
   "id": "3250f570-84e5-4eac-bea9-0237015f99d3",
   "metadata": {},
   "outputs": [
    {
     "data": {
      "text/plain": [
       "frequency\n",
       "non frequent    126\n",
       "frequent         23\n",
       "Name: count, dtype: int64"
      ]
     },
     "execution_count": 86,
     "metadata": {},
     "output_type": "execute_result"
    }
   ],
   "source": [
    "new_df.value_counts('frequency')"
   ]
  },
  {
   "cell_type": "code",
   "execution_count": 29,
   "id": "5acf4e54-efe6-4086-aedd-a4cd548cd2c4",
   "metadata": {},
   "outputs": [
    {
     "data": {
      "text/plain": [
       "<Axes: xlabel='date'>"
      ]
     },
     "execution_count": 29,
     "metadata": {},
     "output_type": "execute_result"
    },
    {
     "data": {
      "image/png": "[encoded data removed]",
      "text/plain": [
       "<Figure size 640x480 with 1 Axes>"
      ]
     },
     "metadata": {},
     "output_type": "display_data"
    }
   ],
   "source": [
    "# Anyway, now that we're past the tricky part, all that's left is the fun: visualization! \n",
    "# To do that, we'll import matplotlib \n",
    "\n",
    "import seaborn as sns\n",
    "import matplotlib.pyplot as plt\n",
    "post_counts.plot(x='date')"
   ]
  },
  {
   "cell_type": "code",
   "execution_count": 74,
   "id": "10e6cbdb-97a7-44cb-ab69-c5394d5b6492",
   "metadata": {},
   "outputs": [
    {
     "data": {
      "image/png": "[encoded data removed]",
      "text/plain": [
       "<Figure size 1500x600 with 1 Axes>"
      ]
     },
     "metadata": {},
     "output_type": "display_data"
    }
   ],
   "source": [
    "new_df.plot(figsize=(15, 6));"
   ]
  },
  {
   "cell_type": "code",
   "execution_count": 87,
   "id": "60ae3653-72f9-408a-b143-87faed819805",
   "metadata": {},
   "outputs": [
    {
     "data": {
      "text/html": [
       "<div>\n",
       "<style scoped>\n",
       "    .dataframe tbody tr th:only-of-type {\n",
       "        vertical-align: middle;\n",
       "    }\n",
       "\n",
       "    .dataframe tbody tr th {\n",
       "        vertical-align: top;\n",
       "    }\n",
       "\n",
       "    .dataframe thead th {\n",
       "        text-align: right;\n",
       "    }\n",
       "</style>\n",
       "<table border=\"1\" class=\"dataframe\">\n",
       "  <thead>\n",
       "    <tr style=\"text-align: right;\">\n",
       "      <th></th>\n",
       "      <th>number of post</th>\n",
       "      <th>frequency</th>\n",
       "    </tr>\n",
       "    <tr>\n",
       "      <th>date</th>\n",
       "      <th></th>\n",
       "      <th></th>\n",
       "    </tr>\n",
       "  </thead>\n",
       "  <tbody>\n",
       "    <tr>\n",
       "      <th>2018-01-01</th>\n",
       "      <td>12</td>\n",
       "      <td>non frequent</td>\n",
       "    </tr>\n",
       "    <tr>\n",
       "      <th>2018-02-01</th>\n",
       "      <td>28</td>\n",
       "      <td>non frequent</td>\n",
       "    </tr>\n",
       "    <tr>\n",
       "      <th>2018-03-01</th>\n",
       "      <td>13</td>\n",
       "      <td>non frequent</td>\n",
       "    </tr>\n",
       "    <tr>\n",
       "      <th>2018-04-01</th>\n",
       "      <td>19</td>\n",
       "      <td>non frequent</td>\n",
       "    </tr>\n",
       "    <tr>\n",
       "      <th>2018-05-01</th>\n",
       "      <td>14</td>\n",
       "      <td>non frequent</td>\n",
       "    </tr>\n",
       "    <tr>\n",
       "      <th>2018-06-01</th>\n",
       "      <td>12</td>\n",
       "      <td>non frequent</td>\n",
       "    </tr>\n",
       "    <tr>\n",
       "      <th>2018-07-01</th>\n",
       "      <td>16</td>\n",
       "      <td>non frequent</td>\n",
       "    </tr>\n",
       "    <tr>\n",
       "      <th>2018-08-01</th>\n",
       "      <td>10</td>\n",
       "      <td>non frequent</td>\n",
       "    </tr>\n",
       "    <tr>\n",
       "      <th>2018-09-01</th>\n",
       "      <td>7</td>\n",
       "      <td>non frequent</td>\n",
       "    </tr>\n",
       "    <tr>\n",
       "      <th>2018-10-01</th>\n",
       "      <td>19</td>\n",
       "      <td>non frequent</td>\n",
       "    </tr>\n",
       "    <tr>\n",
       "      <th>2018-11-01</th>\n",
       "      <td>9</td>\n",
       "      <td>non frequent</td>\n",
       "    </tr>\n",
       "    <tr>\n",
       "      <th>2018-12-01</th>\n",
       "      <td>7</td>\n",
       "      <td>non frequent</td>\n",
       "    </tr>\n",
       "    <tr>\n",
       "      <th>2019-01-01</th>\n",
       "      <td>16</td>\n",
       "      <td>non frequent</td>\n",
       "    </tr>\n",
       "    <tr>\n",
       "      <th>2019-02-01</th>\n",
       "      <td>7</td>\n",
       "      <td>non frequent</td>\n",
       "    </tr>\n",
       "    <tr>\n",
       "      <th>2019-03-01</th>\n",
       "      <td>0</td>\n",
       "      <td>non frequent</td>\n",
       "    </tr>\n",
       "    <tr>\n",
       "      <th>2019-04-01</th>\n",
       "      <td>0</td>\n",
       "      <td>non frequent</td>\n",
       "    </tr>\n",
       "    <tr>\n",
       "      <th>2019-05-01</th>\n",
       "      <td>0</td>\n",
       "      <td>non frequent</td>\n",
       "    </tr>\n",
       "    <tr>\n",
       "      <th>2019-06-01</th>\n",
       "      <td>16</td>\n",
       "      <td>non frequent</td>\n",
       "    </tr>\n",
       "    <tr>\n",
       "      <th>2019-07-01</th>\n",
       "      <td>8</td>\n",
       "      <td>non frequent</td>\n",
       "    </tr>\n",
       "    <tr>\n",
       "      <th>2019-08-01</th>\n",
       "      <td>12</td>\n",
       "      <td>non frequent</td>\n",
       "    </tr>\n",
       "    <tr>\n",
       "      <th>2019-09-01</th>\n",
       "      <td>2</td>\n",
       "      <td>non frequent</td>\n",
       "    </tr>\n",
       "    <tr>\n",
       "      <th>2019-10-01</th>\n",
       "      <td>11</td>\n",
       "      <td>non frequent</td>\n",
       "    </tr>\n",
       "    <tr>\n",
       "      <th>2019-11-01</th>\n",
       "      <td>10</td>\n",
       "      <td>non frequent</td>\n",
       "    </tr>\n",
       "    <tr>\n",
       "      <th>2019-12-01</th>\n",
       "      <td>10</td>\n",
       "      <td>non frequent</td>\n",
       "    </tr>\n",
       "    <tr>\n",
       "      <th>2020-01-01</th>\n",
       "      <td>12</td>\n",
       "      <td>non frequent</td>\n",
       "    </tr>\n",
       "    <tr>\n",
       "      <th>2020-02-01</th>\n",
       "      <td>0</td>\n",
       "      <td>non frequent</td>\n",
       "    </tr>\n",
       "    <tr>\n",
       "      <th>2020-03-01</th>\n",
       "      <td>19</td>\n",
       "      <td>non frequent</td>\n",
       "    </tr>\n",
       "    <tr>\n",
       "      <th>2020-04-01</th>\n",
       "      <td>9</td>\n",
       "      <td>non frequent</td>\n",
       "    </tr>\n",
       "    <tr>\n",
       "      <th>2020-05-01</th>\n",
       "      <td>2</td>\n",
       "      <td>non frequent</td>\n",
       "    </tr>\n",
       "    <tr>\n",
       "      <th>2020-06-01</th>\n",
       "      <td>16</td>\n",
       "      <td>non frequent</td>\n",
       "    </tr>\n",
       "    <tr>\n",
       "      <th>2020-07-01</th>\n",
       "      <td>9</td>\n",
       "      <td>non frequent</td>\n",
       "    </tr>\n",
       "    <tr>\n",
       "      <th>2020-08-01</th>\n",
       "      <td>8</td>\n",
       "      <td>non frequent</td>\n",
       "    </tr>\n",
       "    <tr>\n",
       "      <th>2020-09-01</th>\n",
       "      <td>13</td>\n",
       "      <td>non frequent</td>\n",
       "    </tr>\n",
       "    <tr>\n",
       "      <th>2020-10-01</th>\n",
       "      <td>7</td>\n",
       "      <td>non frequent</td>\n",
       "    </tr>\n",
       "    <tr>\n",
       "      <th>2020-11-01</th>\n",
       "      <td>9</td>\n",
       "      <td>non frequent</td>\n",
       "    </tr>\n",
       "    <tr>\n",
       "      <th>2020-12-01</th>\n",
       "      <td>4</td>\n",
       "      <td>non frequent</td>\n",
       "    </tr>\n",
       "    <tr>\n",
       "      <th>2021-01-01</th>\n",
       "      <td>5</td>\n",
       "      <td>non frequent</td>\n",
       "    </tr>\n",
       "    <tr>\n",
       "      <th>2021-02-01</th>\n",
       "      <td>4</td>\n",
       "      <td>non frequent</td>\n",
       "    </tr>\n",
       "    <tr>\n",
       "      <th>2021-03-01</th>\n",
       "      <td>8</td>\n",
       "      <td>non frequent</td>\n",
       "    </tr>\n",
       "    <tr>\n",
       "      <th>2021-04-01</th>\n",
       "      <td>5</td>\n",
       "      <td>non frequent</td>\n",
       "    </tr>\n",
       "    <tr>\n",
       "      <th>2021-05-01</th>\n",
       "      <td>18</td>\n",
       "      <td>non frequent</td>\n",
       "    </tr>\n",
       "    <tr>\n",
       "      <th>2021-06-01</th>\n",
       "      <td>24</td>\n",
       "      <td>non frequent</td>\n",
       "    </tr>\n",
       "    <tr>\n",
       "      <th>2021-07-01</th>\n",
       "      <td>21</td>\n",
       "      <td>non frequent</td>\n",
       "    </tr>\n",
       "    <tr>\n",
       "      <th>2021-08-01</th>\n",
       "      <td>4</td>\n",
       "      <td>non frequent</td>\n",
       "    </tr>\n",
       "    <tr>\n",
       "      <th>2021-09-01</th>\n",
       "      <td>29</td>\n",
       "      <td>non frequent</td>\n",
       "    </tr>\n",
       "    <tr>\n",
       "      <th>2021-10-01</th>\n",
       "      <td>12</td>\n",
       "      <td>non frequent</td>\n",
       "    </tr>\n",
       "    <tr>\n",
       "      <th>2021-11-01</th>\n",
       "      <td>24</td>\n",
       "      <td>non frequent</td>\n",
       "    </tr>\n",
       "    <tr>\n",
       "      <th>2021-12-01</th>\n",
       "      <td>63</td>\n",
       "      <td>frequent</td>\n",
       "    </tr>\n",
       "    <tr>\n",
       "      <th>2022-01-01</th>\n",
       "      <td>44</td>\n",
       "      <td>frequent</td>\n",
       "    </tr>\n",
       "  </tbody>\n",
       "</table>\n",
       "</div>"
      ],
      "text/plain": [
       "            number of post     frequency\n",
       "date                                    \n",
       "2018-01-01              12  non frequent\n",
       "2018-02-01              28  non frequent\n",
       "2018-03-01              13  non frequent\n",
       "2018-04-01              19  non frequent\n",
       "2018-05-01              14  non frequent\n",
       "2018-06-01              12  non frequent\n",
       "2018-07-01              16  non frequent\n",
       "2018-08-01              10  non frequent\n",
       "2018-09-01               7  non frequent\n",
       "2018-10-01              19  non frequent\n",
       "2018-11-01               9  non frequent\n",
       "2018-12-01               7  non frequent\n",
       "2019-01-01              16  non frequent\n",
       "2019-02-01               7  non frequent\n",
       "2019-03-01               0  non frequent\n",
       "2019-04-01               0  non frequent\n",
       "2019-05-01               0  non frequent\n",
       "2019-06-01              16  non frequent\n",
       "2019-07-01               8  non frequent\n",
       "2019-08-01              12  non frequent\n",
       "2019-09-01               2  non frequent\n",
       "2019-10-01              11  non frequent\n",
       "2019-11-01              10  non frequent\n",
       "2019-12-01              10  non frequent\n",
       "2020-01-01              12  non frequent\n",
       "2020-02-01               0  non frequent\n",
       "2020-03-01              19  non frequent\n",
       "2020-04-01               9  non frequent\n",
       "2020-05-01               2  non frequent\n",
       "2020-06-01              16  non frequent\n",
       "2020-07-01               9  non frequent\n",
       "2020-08-01               8  non frequent\n",
       "2020-09-01              13  non frequent\n",
       "2020-10-01               7  non frequent\n",
       "2020-11-01               9  non frequent\n",
       "2020-12-01               4  non frequent\n",
       "2021-01-01               5  non frequent\n",
       "2021-02-01               4  non frequent\n",
       "2021-03-01               8  non frequent\n",
       "2021-04-01               5  non frequent\n",
       "2021-05-01              18  non frequent\n",
       "2021-06-01              24  non frequent\n",
       "2021-07-01              21  non frequent\n",
       "2021-08-01               4  non frequent\n",
       "2021-09-01              29  non frequent\n",
       "2021-10-01              12  non frequent\n",
       "2021-11-01              24  non frequent\n",
       "2021-12-01              63      frequent\n",
       "2022-01-01              44      frequent"
      ]
     },
     "execution_count": 87,
     "metadata": {},
     "output_type": "execute_result"
    }
   ],
   "source": [
    "what_happened = new_df.loc['2018-01-01' : '2022-01-01']\n",
    "what_happened"
   ]
  },
  {
   "cell_type": "code",
   "execution_count": 97,
   "id": "aaecc07e-b6fe-488d-bdd3-7bbec3279b1b",
   "metadata": {},
   "outputs": [
    {
     "data": {
      "text/html": [
       "<div>\n",
       "<style scoped>\n",
       "    .dataframe tbody tr th:only-of-type {\n",
       "        vertical-align: middle;\n",
       "    }\n",
       "\n",
       "    .dataframe tbody tr th {\n",
       "        vertical-align: top;\n",
       "    }\n",
       "\n",
       "    .dataframe thead th {\n",
       "        text-align: right;\n",
       "    }\n",
       "</style>\n",
       "<table border=\"1\" class=\"dataframe\">\n",
       "  <thead>\n",
       "    <tr style=\"text-align: right;\">\n",
       "      <th></th>\n",
       "      <th>number of post</th>\n",
       "      <th>frequency</th>\n",
       "    </tr>\n",
       "    <tr>\n",
       "      <th>date</th>\n",
       "      <th></th>\n",
       "      <th></th>\n",
       "    </tr>\n",
       "  </thead>\n",
       "  <tbody>\n",
       "    <tr>\n",
       "      <th>2019-01-01</th>\n",
       "      <td>16</td>\n",
       "      <td>non frequent</td>\n",
       "    </tr>\n",
       "    <tr>\n",
       "      <th>2019-02-01</th>\n",
       "      <td>7</td>\n",
       "      <td>non frequent</td>\n",
       "    </tr>\n",
       "    <tr>\n",
       "      <th>2019-03-01</th>\n",
       "      <td>0</td>\n",
       "      <td>non frequent</td>\n",
       "    </tr>\n",
       "    <tr>\n",
       "      <th>2019-04-01</th>\n",
       "      <td>0</td>\n",
       "      <td>non frequent</td>\n",
       "    </tr>\n",
       "    <tr>\n",
       "      <th>2019-05-01</th>\n",
       "      <td>0</td>\n",
       "      <td>non frequent</td>\n",
       "    </tr>\n",
       "    <tr>\n",
       "      <th>2019-06-01</th>\n",
       "      <td>16</td>\n",
       "      <td>non frequent</td>\n",
       "    </tr>\n",
       "    <tr>\n",
       "      <th>2019-07-01</th>\n",
       "      <td>8</td>\n",
       "      <td>non frequent</td>\n",
       "    </tr>\n",
       "    <tr>\n",
       "      <th>2019-08-01</th>\n",
       "      <td>12</td>\n",
       "      <td>non frequent</td>\n",
       "    </tr>\n",
       "    <tr>\n",
       "      <th>2019-09-01</th>\n",
       "      <td>2</td>\n",
       "      <td>non frequent</td>\n",
       "    </tr>\n",
       "    <tr>\n",
       "      <th>2019-10-01</th>\n",
       "      <td>11</td>\n",
       "      <td>non frequent</td>\n",
       "    </tr>\n",
       "    <tr>\n",
       "      <th>2019-11-01</th>\n",
       "      <td>10</td>\n",
       "      <td>non frequent</td>\n",
       "    </tr>\n",
       "    <tr>\n",
       "      <th>2019-12-01</th>\n",
       "      <td>10</td>\n",
       "      <td>non frequent</td>\n",
       "    </tr>\n",
       "  </tbody>\n",
       "</table>\n",
       "</div>"
      ],
      "text/plain": [
       "            number of post     frequency\n",
       "date                                    \n",
       "2019-01-01              16  non frequent\n",
       "2019-02-01               7  non frequent\n",
       "2019-03-01               0  non frequent\n",
       "2019-04-01               0  non frequent\n",
       "2019-05-01               0  non frequent\n",
       "2019-06-01              16  non frequent\n",
       "2019-07-01               8  non frequent\n",
       "2019-08-01              12  non frequent\n",
       "2019-09-01               2  non frequent\n",
       "2019-10-01              11  non frequent\n",
       "2019-11-01              10  non frequent\n",
       "2019-12-01              10  non frequent"
      ]
     },
     "execution_count": 97,
     "metadata": {},
     "output_type": "execute_result"
    }
   ],
   "source": [
    "activity19 = new_df.loc['2019']\n",
    "activity19"
   ]
  },
  {
   "cell_type": "code",
   "execution_count": 98,
   "id": "a54fe588-e6b3-4a2a-8f9e-cdb39d821b8b",
   "metadata": {},
   "outputs": [
    {
     "data": {
      "text/plain": [
       "92"
      ]
     },
     "execution_count": 98,
     "metadata": {},
     "output_type": "execute_result"
    }
   ],
   "source": [
    "activity19['number of post'].sum()"
   ]
  },
  {
   "cell_type": "code",
   "execution_count": 99,
   "id": "95d54ba0-f60c-42ab-b104-0b10efae5583",
   "metadata": {},
   "outputs": [
    {
     "data": {
      "text/plain": [
       "108"
      ]
     },
     "execution_count": 99,
     "metadata": {},
     "output_type": "execute_result"
    }
   ],
   "source": [
    "activity20 = new_df.loc['2020']\n",
    "activity20['number of post'].sum()"
   ]
  },
  {
   "cell_type": "code",
   "execution_count": 100,
   "id": "eac84a5b-25e9-4e8c-b743-a3941e4f35a6",
   "metadata": {},
   "outputs": [
    {
     "data": {
      "text/plain": [
       "166"
      ]
     },
     "execution_count": 100,
     "metadata": {},
     "output_type": "execute_result"
    }
   ],
   "source": [
    "activity18 = new_df.loc['2018']\n",
    "activity18['number of post'].sum()"
   ]
  },
  {
   "cell_type": "code",
   "execution_count": 101,
   "id": "a44b882d-4e2d-4ad4-82f5-b4fd482039e6",
   "metadata": {},
   "outputs": [
    {
     "data": {
      "text/plain": [
       "217"
      ]
     },
     "execution_count": 101,
     "metadata": {},
     "output_type": "execute_result"
    }
   ],
   "source": [
    "activity21 = new_df.loc['2021']\n",
    "activity21['number of post'].sum()"
   ]
  },
  {
   "cell_type": "code",
   "execution_count": 106,
   "id": "98ea17db-fda4-4bf3-abcb-83b38f5a5513",
   "metadata": {},
   "outputs": [
    {
     "data": {
      "text/plain": [
       "23"
      ]
     },
     "execution_count": 106,
     "metadata": {},
     "output_type": "execute_result"
    }
   ],
   "source": [
    "activity24 = new_df.loc['2024']\n",
    "activity24['number of post'].sum()"
   ]
  },
  {
   "cell_type": "code",
   "execution_count": 107,
   "id": "1f91a66b-bb35-4e0f-a0cd-2e90bec61a36",
   "metadata": {},
   "outputs": [
    {
     "data": {
      "text/html": [
       "<div>\n",
       "<style scoped>\n",
       "    .dataframe tbody tr th:only-of-type {\n",
       "        vertical-align: middle;\n",
       "    }\n",
       "\n",
       "    .dataframe tbody tr th {\n",
       "        vertical-align: top;\n",
       "    }\n",
       "\n",
       "    .dataframe thead th {\n",
       "        text-align: right;\n",
       "    }\n",
       "</style>\n",
       "<table border=\"1\" class=\"dataframe\">\n",
       "  <thead>\n",
       "    <tr style=\"text-align: right;\">\n",
       "      <th></th>\n",
       "      <th>number of post</th>\n",
       "      <th>frequency</th>\n",
       "    </tr>\n",
       "    <tr>\n",
       "      <th>date</th>\n",
       "      <th></th>\n",
       "      <th></th>\n",
       "    </tr>\n",
       "  </thead>\n",
       "  <tbody>\n",
       "    <tr>\n",
       "      <th>2024-01-01</th>\n",
       "      <td>2</td>\n",
       "      <td>non frequent</td>\n",
       "    </tr>\n",
       "    <tr>\n",
       "      <th>2024-02-01</th>\n",
       "      <td>5</td>\n",
       "      <td>non frequent</td>\n",
       "    </tr>\n",
       "    <tr>\n",
       "      <th>2024-03-01</th>\n",
       "      <td>3</td>\n",
       "      <td>non frequent</td>\n",
       "    </tr>\n",
       "    <tr>\n",
       "      <th>2024-04-01</th>\n",
       "      <td>13</td>\n",
       "      <td>non frequent</td>\n",
       "    </tr>\n",
       "  </tbody>\n",
       "</table>\n",
       "</div>"
      ],
      "text/plain": [
       "            number of post     frequency\n",
       "date                                    \n",
       "2024-01-01               2  non frequent\n",
       "2024-02-01               5  non frequent\n",
       "2024-03-01               3  non frequent\n",
       "2024-04-01              13  non frequent"
      ]
     },
     "execution_count": 107,
     "metadata": {},
     "output_type": "execute_result"
    }
   ],
   "source": [
    "activity24"
   ]
  },
  {
   "cell_type": "code",
   "execution_count": null,
   "id": "46816075-2d62-4759-b615-4dfb73011206",
   "metadata": {},
   "outputs": [],
   "source": []
  }
 ],
 "metadata": {
  "kernelspec": {
   "display_name": "Python 3 (ipykernel)",
   "language": "python",
   "name": "python3"
  },
  "language_info": {
   "codemirror_mode": {
    "name": "ipython",
    "version": 3
   },
   "file_extension": ".py",
   "mimetype": "text/x-python",
   "name": "python",
   "nbconvert_exporter": "python",
   "pygments_lexer": "ipython3",
   "version": "3.11.7"
  }
 },
 "nbformat": 4,
 "nbformat_minor": 5
}
